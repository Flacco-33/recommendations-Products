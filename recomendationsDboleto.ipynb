{
 "cells": [
  {
   "cell_type": "markdown",
   "metadata": {},
   "source": [
    "# Import Libraries\n",
    ">Import necessary libraries for data manipulation and modeling."
   ]
  },
  {
   "cell_type": "code",
   "execution_count": 31,
   "metadata": {},
   "outputs": [],
   "source": [
    "import pandas as pd\n",
    "from sklearn.model_selection import train_test_split\n",
    "from sklearn.metrics.pairwise import cosine_similarity\n"
   ]
  },
  {
   "cell_type": "markdown",
   "metadata": {},
   "source": [
    "# Load the Dataset\n",
    ">Load the dataset from the CSV file 'products.csv'. Provide information about the data source and format.\n",
    "\n",
    "This dataset contains information about users and the products they have purchased. The fields included are:\n",
    "\n",
    "- **usuario_id**: A unique identifier for each user.\n",
    "- **correo_producto**: The email address of the user.\n",
    "- **nombre_producto**: The name of the purchased product.\n",
    "- **categoria**: The category of the product.\n",
    "- **descripcion**: A description of the product.\n"
   ]
  },
  {
   "cell_type": "code",
   "execution_count": null,
   "metadata": {},
   "outputs": [],
   "source": [
    "# Load the dataset\n",
    "data = pd.read_csv('products.csv')"
   ]
  },
  {
   "cell_type": "markdown",
   "metadata": {},
   "source": [
    "# User-Product Interaction Matrix and User Similarity\n",
    ">In this section, we will create a user-product interaction matrix and compute the cosine similarity between users."
   ]
  },
  {
   "cell_type": "code",
   "execution_count": 32,
   "metadata": {},
   "outputs": [],
   "source": [
    "# Create a user-product interaction matrix\n",
    "# This matrix will have users as rows, products as columns, and 1s where a user has purchased a product\n",
    "user_product_matrix = pd.pivot_table(data, index='usuario_id', columns='nombre_producto', aggfunc='size', fill_value=0)\n",
    "\n",
    "# Calculate the cosine similarity matrix between users\n",
    "user_similarity_matrix = cosine_similarity(user_product_matrix)\n",
    "\n",
    "# Convert the cosine similarity matrix into a DataFrame for better readability\n",
    "user_similarity_df = pd.DataFrame(user_similarity_matrix, index=user_product_matrix.index, columns=user_product_matrix.index)\n"
   ]
  },
  {
   "cell_type": "markdown",
   "metadata": {},
   "source": [
    "# User-Based Product Recommendations\n",
    ">In this section, we define a function to generate product recommendations for a given user based on user similarity. The function will recommend products that similar users have purchased but the current user has not.\n"
   ]
  },
  {
   "cell_type": "code",
   "execution_count": 38,
   "metadata": {},
   "outputs": [],
   "source": [
    "def get_user_recommendations(user_id, train_data, user_similarity_df, num_recommendations=5):\n",
    "    \"\"\"\n",
    "    Generate product recommendations for a given user based on user similarity.\n",
    "\n",
    "    Parameters:\n",
    "    user_id (String): The ID of the user for whom recommendations are to be generated.\n",
    "    train_data (DataFrame): The user-product interaction matrix.\n",
    "    user_similarity_df (DataFrame): The user similarity matrix.\n",
    "    num_recommendations (int): The number of recommendations to generate.\n",
    "\n",
    "    Returns:\n",
    "    list: A list of recommended product names.\n",
    "    \"\"\"\n",
    "    # Check if the user is in the training data\n",
    "    if user_id not in train_data.index:\n",
    "        print(f\"User {user_id} has no purchase history.\")\n",
    "        top_products = train_data.sum().nlargest(num_recommendations).index\n",
    "        return list(top_products)\n",
    "\n",
    "    # Get the similarity row for the user\n",
    "    user_similarity_row = user_similarity_df.loc[user_id]\n",
    "\n",
    "    # Get similar users sorted by similarity, excluding the current user\n",
    "    similar_users = user_similarity_row.drop(user_id).sort_values(ascending=False)\n",
    "\n",
    "    # Generate recommendations based on similar users\n",
    "    recommendations = []\n",
    "    user_purchased_products = set(train_data.loc[user_id][train_data.loc[user_id] > 0].index)\n",
    "\n",
    "    for similar_user_id in similar_users.index:\n",
    "        similar_user_history = train_data.loc[similar_user_id]\n",
    "        similar_user_purchased_products = set(similar_user_history[similar_user_history > 0].index)\n",
    "\n",
    "        # Recommend products that similar users have purchased but the current user has not\n",
    "        recommended_products = similar_user_purchased_products - user_purchased_products\n",
    "        recommendations.extend(recommended_products)\n",
    "\n",
    "        # Limit the number of recommendations\n",
    "        if len(recommendations) >= num_recommendations:\n",
    "            break\n",
    "\n",
    "    # Remove duplicates and limit the number of recommendations\n",
    "    recommendations = list(set(recommendations))\n",
    "    if len(recommendations) < num_recommendations:\n",
    "        remaining_recommendations = num_recommendations - len(recommendations)\n",
    "        top_products = train_data.sum().nlargest(remaining_recommendations).index\n",
    "        recommendations.extend(top_products)\n",
    "\n",
    "    recommendations = recommendations[:num_recommendations]  # Limit the total number of recommendations\n",
    "\n",
    "    return recommendations"
   ]
  },
  {
   "cell_type": "markdown",
   "metadata": {},
   "source": [
    "# Example Usage of the Recommendation Function\n",
    "\n",
    ">In this section, we will demonstrate how to use the `get_user_recommendations` function to generate product recommendations for an existing and not existing user."
   ]
  },
  {
   "cell_type": "code",
   "execution_count": 43,
   "metadata": {},
   "outputs": [
    {
     "name": "stdout",
     "output_type": "stream",
     "text": [
      "Recommended products for usuario4: ['Galletas Emperador Gamesa', 'Sabritas Original', 'Churrumais Barcel', 'Triki Trakes Gamesa', 'Galletas Marías Gamesa']\n"
     ]
    }
   ],
   "source": [
    "# Example usage of the get_user_recommendations function\n",
    "user_id = 'usuario3'  # Define the user ID for which recommendations are to be generated\n",
    "\n",
    "# Generate product recommendations for the specified user\n",
    "recommended_products = get_user_recommendations(user_id, user_product_matrix, user_similarity_df, num_recommendations=5)\n",
    "\n",
    "# Print the recommended products\n",
    "print(f\"Recommended products for {user_id}: {recommended_products}\")\n"
   ]
  },
  {
   "cell_type": "code",
   "execution_count": null,
   "metadata": {},
   "outputs": [],
   "source": [
    "# Example of using the get_user recommendations function for a user with no purchase history\n",
    "user_id = 'usuario343'  # Define the user ID for which recommendations are to be generated\n",
    "\n",
    "# Generate product recommendations for the specified user\n",
    "recommended_products = get_user_recommendations(user_id, user_product_matrix, user_similarity_df, num_recommendations=5)\n",
    "\n",
    "# Print the recommended products\n",
    "print(f\"Recommended products for {user_id}: {recommended_products}\")"
   ]
  }
 ],
 "metadata": {
  "kernelspec": {
   "display_name": "Python 3",
   "language": "python",
   "name": "python3"
  },
  "language_info": {
   "codemirror_mode": {
    "name": "ipython",
    "version": 3
   },
   "file_extension": ".py",
   "mimetype": "text/x-python",
   "name": "python",
   "nbconvert_exporter": "python",
   "pygments_lexer": "ipython3",
   "version": "3.11.9"
  }
 },
 "nbformat": 4,
 "nbformat_minor": 2
}
