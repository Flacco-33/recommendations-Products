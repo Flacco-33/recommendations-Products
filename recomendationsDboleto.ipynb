{
 "cells": [
  {
   "cell_type": "code",
   "execution_count": 3,
   "metadata": {},
   "outputs": [],
   "source": [
    "import pandas as pd\n",
    "from sklearn.model_selection import train_test_split\n",
    "from sklearn.metrics.pairwise import cosine_similarity\n",
    "\n",
    "\n",
    "\n",
    "# Cargar el dataset\n",
    "data = pd.read_csv('products.csv')\n"
   ]
  },
  {
   "cell_type": "code",
   "execution_count": 4,
   "metadata": {},
   "outputs": [],
   "source": [
    "# Crear una tabla de usuario-producto (poniendo 1 donde el usuario ha comprado el producto)\n",
    "user_product_matrix = pd.pivot_table(data, index='usuario_id', columns='nombre_producto', aggfunc='size', fill_value=0)\n",
    "\n",
    "# Calcular la matriz de similitud de coseno entre usuarios\n",
    "user_similarity_matrix = cosine_similarity(user_product_matrix)\n",
    "\n",
    "# Convertir la matriz de similitud en un DataFrame\n",
    "user_similarity_df = pd.DataFrame(user_similarity_matrix, index=user_product_matrix.index, columns=user_product_matrix.index)"
   ]
  },
  {
   "cell_type": "code",
   "execution_count": 5,
   "metadata": {},
   "outputs": [],
   "source": [
    "def get_user_recommendations(user_id, train_data, user_similarity_df, num_recommendations=5):\n",
    "    # Verificar si el usuario está en los datos de entrenamiento\n",
    "    if user_id not in train_data.index:\n",
    "        print(f\"El usuario {user_id} no tiene historial de compras.\")\n",
    "        top_products = train_data.sum().nlargest(num_recommendations).index\n",
    "        return list(top_products)\n",
    "\n",
    "    # Obtener la fila de similitud del usuario\n",
    "    user_similarity_row = user_similarity_df.loc[user_id]\n",
    "\n",
    "    # Obtener usuarios similares ordenados por similitud, excluyendo al propio usuario\n",
    "    similar_users = user_similarity_row.drop(user_id).sort_values(ascending=False)\n",
    "\n",
    "    # Generar las recomendaciones basadas en los usuarios similares\n",
    "    recommendations = []\n",
    "    user_purchased_products = set(train_data.loc[user_id][train_data.loc[user_id] > 0].index)\n",
    "\n",
    "    for similar_user_id in similar_users.index:\n",
    "        similar_user_history = train_data.loc[similar_user_id]\n",
    "        similar_user_purchased_products = set(similar_user_history[similar_user_history > 0].index)\n",
    "\n",
    "        # Recomendar productos que el usuario similar ha comprado pero el usuario actual no\n",
    "        recommended_products = similar_user_purchased_products - user_purchased_products\n",
    "        recommendations.extend(recommended_products)\n",
    "\n",
    "        # Limitar el número de recomendaciones\n",
    "        if len(recommendations) >= num_recommendations:\n",
    "            break\n",
    "\n",
    "    # Eliminar duplicados y limitar el número de recomendaciones\n",
    "    recommendations = list(set(recommendations))[:num_recommendations]\n",
    "\n",
    "    return recommendations\n"
   ]
  },
  {
   "cell_type": "code",
   "execution_count": 7,
   "metadata": {},
   "outputs": [
    {
     "name": "stdout",
     "output_type": "stream",
     "text": [
      "Recommended products for usuario2: ['Trident Sabor Menta', 'Fritos Chorizo y Limón', 'Gansito Marinela', 'Triki Trakes Gamesa', 'Sprite 600ml']\n"
     ]
    }
   ],
   "source": [
    "# Ejemplo de uso con un usuario existente\n",
    "user_id = 'usuario2'\n",
    "recommended_products = get_user_recommendations(user_id, user_product_matrix, user_similarity_df, num_recommendations=5)\n",
    "print(f\"Recommended products for {user_id}: {recommended_products}\")\n"
   ]
  }
 ],
 "metadata": {
  "kernelspec": {
   "display_name": "Python 3",
   "language": "python",
   "name": "python3"
  },
  "language_info": {
   "codemirror_mode": {
    "name": "ipython",
    "version": 3
   },
   "file_extension": ".py",
   "mimetype": "text/x-python",
   "name": "python",
   "nbconvert_exporter": "python",
   "pygments_lexer": "ipython3",
   "version": "3.11.9"
  }
 },
 "nbformat": 4,
 "nbformat_minor": 2
}
